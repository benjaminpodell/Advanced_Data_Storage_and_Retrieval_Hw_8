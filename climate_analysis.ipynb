{
 "cells": [
  {
   "cell_type": "code",
   "execution_count": 1,
   "metadata": {},
   "outputs": [],
   "source": [
    "# Importing matplotlib inline dependency \n",
    "%matplotlib inline"
   ]
  },
  {
   "cell_type": "code",
   "execution_count": 2,
   "metadata": {},
   "outputs": [],
   "source": [
    "# Importing all dependencies including sqlalchemy, python sql toolkit, and object relational mapper\n",
    "from matplotlib import style\n",
    "style.use('fivethirtyeight')\n",
    "#style.use('seaborn')\n",
    "import matplotlib\n",
    "import matplotlib.pyplot as plt\n",
    "import numpy as np\n",
    "import pandas as pd\n",
    "import datetime as dt\n",
    "\n",
    "import sqlalchemy\n",
    "from sqlalchemy.ext.automap import automap_base\n",
    "from sqlalchemy.orm import Session\n",
    "from sqlalchemy import extract\n",
    "from sqlalchemy import create_engine, inspect, func\n",
    "from sqlalchemy import Column, Integer, String, Float, Text, ForeignKey"
   ]
  },
  {
   "cell_type": "code",
   "execution_count": 3,
   "metadata": {},
   "outputs": [],
   "source": [
    "# Variable that stores created engine referencing the `hawaii.sqlite` database file from the resources folder\n",
    "engine = create_engine(\"sqlite:///Resources/hawaii.sqlite\")"
   ]
  },
  {
   "cell_type": "code",
   "execution_count": 4,
   "metadata": {},
   "outputs": [],
   "source": [
    "# Variable reflecting an existing database into a new model\n",
    "Base = automap_base()\n",
    "\n",
    "# Reflects the tables\n",
    "Base.prepare(engine, reflect=True)"
   ]
  },
  {
   "cell_type": "code",
   "execution_count": 5,
   "metadata": {},
   "outputs": [
    {
     "data": {
      "text/plain": [
       "['measurement', 'station']"
      ]
     },
     "execution_count": 5,
     "metadata": {},
     "output_type": "execute_result"
    }
   ],
   "source": [
    "# Prints all of the classes mapped to the Base\n",
    "Base.classes.keys()"
   ]
  },
  {
   "cell_type": "code",
   "execution_count": 6,
   "metadata": {},
   "outputs": [
    {
     "data": {
      "text/plain": [
       "['measurement', 'station']"
      ]
     },
     "execution_count": 6,
     "metadata": {},
     "output_type": "execute_result"
    }
   ],
   "source": [
    "# Inspector variable that stores inspector function to connect to the engine\n",
    "inspector = inspect(engine)\n",
    "\n",
    "# Collects the names of the tables within the database\n",
    "inspector.get_table_names()"
   ]
  },
  {
   "cell_type": "code",
   "execution_count": 7,
   "metadata": {},
   "outputs": [
    {
     "data": {
      "text/plain": [
       "[(1, 'USC00519397', '2010-01-01', 0.08, 65.0),\n",
       " (2, 'USC00519397', '2010-01-02', 0.0, 63.0),\n",
       " (3, 'USC00519397', '2010-01-03', 0.0, 74.0),\n",
       " (4, 'USC00519397', '2010-01-04', 0.0, 76.0),\n",
       " (5, 'USC00519397', '2010-01-06', None, 73.0)]"
      ]
     },
     "execution_count": 7,
     "metadata": {},
     "output_type": "execute_result"
    }
   ],
   "source": [
    "# Selects and display the first 5 rows of the table from engine using 'execute'\n",
    "engine.execute('SELECT * FROM measurement LIMIT 5').fetchall()"
   ]
  },
  {
   "cell_type": "code",
   "execution_count": 8,
   "metadata": {},
   "outputs": [],
   "source": [
    "# Variables storing the Reflect Database into object relational mapping classes\n",
    "Measurement = Base.classes.measurement\n",
    "Station = Base.classes.station"
   ]
  },
  {
   "cell_type": "code",
   "execution_count": 9,
   "metadata": {},
   "outputs": [],
   "source": [
    "# Creates session link from Python to the database\n",
    "session = Session(engine)"
   ]
  },
  {
   "cell_type": "code",
   "execution_count": 10,
   "metadata": {},
   "outputs": [
    {
     "name": "stdout",
     "output_type": "stream",
     "text": [
      "('2017-08-23',)\n"
     ]
    }
   ],
   "source": [
    "# Variable that stores the last date entry in the data table\n",
    "lowest_date = session.query(Measurement.date).order_by(Measurement.date.desc()).first()\n",
    "print(lowest_date)"
   ]
  },
  {
   "cell_type": "code",
   "execution_count": 11,
   "metadata": {},
   "outputs": [
    {
     "name": "stdout",
     "output_type": "stream",
     "text": [
      "2016-08-23\n"
     ]
    }
   ],
   "source": [
    "# Variable that stores the last 12 months of data being lowest date minus an entire year giving the lowest date from 2016\n",
    "previous_year = dt.date(2017, 8, 23) - dt.timedelta(days=365)\n",
    "print(previous_year)"
   ]
  },
  {
   "cell_type": "code",
   "execution_count": 12,
   "metadata": {},
   "outputs": [],
   "source": [
    "# query to pull the last year of precipitation data\n",
    "rain_measurement = session.query(Measurement.date, Measurement.prcp).\\\n",
    "    filter(Measurement.date > previous_year).\\\n",
    "    order_by(Measurement.date).all()"
   ]
  },
  {
   "cell_type": "code",
   "execution_count": 13,
   "metadata": {},
   "outputs": [
    {
     "data": {
      "text/html": [
       "<div>\n",
       "<style scoped>\n",
       "    .dataframe tbody tr th:only-of-type {\n",
       "        vertical-align: middle;\n",
       "    }\n",
       "\n",
       "    .dataframe tbody tr th {\n",
       "        vertical-align: top;\n",
       "    }\n",
       "\n",
       "    .dataframe thead th {\n",
       "        text-align: right;\n",
       "    }\n",
       "</style>\n",
       "<table border=\"1\" class=\"dataframe\">\n",
       "  <thead>\n",
       "    <tr style=\"text-align: right;\">\n",
       "      <th></th>\n",
       "      <th>date</th>\n",
       "      <th>prcp</th>\n",
       "    </tr>\n",
       "  </thead>\n",
       "  <tbody>\n",
       "    <tr>\n",
       "      <th>0</th>\n",
       "      <td>2016-08-24</td>\n",
       "      <td>0.08</td>\n",
       "    </tr>\n",
       "    <tr>\n",
       "      <th>1</th>\n",
       "      <td>2016-08-24</td>\n",
       "      <td>2.15</td>\n",
       "    </tr>\n",
       "    <tr>\n",
       "      <th>2</th>\n",
       "      <td>2016-08-24</td>\n",
       "      <td>2.28</td>\n",
       "    </tr>\n",
       "    <tr>\n",
       "      <th>4</th>\n",
       "      <td>2016-08-24</td>\n",
       "      <td>1.22</td>\n",
       "    </tr>\n",
       "    <tr>\n",
       "      <th>5</th>\n",
       "      <td>2016-08-24</td>\n",
       "      <td>2.15</td>\n",
       "    </tr>\n",
       "    <tr>\n",
       "      <th>6</th>\n",
       "      <td>2016-08-24</td>\n",
       "      <td>1.45</td>\n",
       "    </tr>\n",
       "    <tr>\n",
       "      <th>7</th>\n",
       "      <td>2016-08-25</td>\n",
       "      <td>0.08</td>\n",
       "    </tr>\n",
       "    <tr>\n",
       "      <th>8</th>\n",
       "      <td>2016-08-25</td>\n",
       "      <td>0.08</td>\n",
       "    </tr>\n",
       "    <tr>\n",
       "      <th>9</th>\n",
       "      <td>2016-08-25</td>\n",
       "      <td>0.00</td>\n",
       "    </tr>\n",
       "    <tr>\n",
       "      <th>10</th>\n",
       "      <td>2016-08-25</td>\n",
       "      <td>0.00</td>\n",
       "    </tr>\n",
       "  </tbody>\n",
       "</table>\n",
       "</div>"
      ],
      "text/plain": [
       "          date  prcp\n",
       "0   2016-08-24  0.08\n",
       "1   2016-08-24  2.15\n",
       "2   2016-08-24  2.28\n",
       "4   2016-08-24  1.22\n",
       "5   2016-08-24  2.15\n",
       "6   2016-08-24  1.45\n",
       "7   2016-08-25  0.08\n",
       "8   2016-08-25  0.08\n",
       "9   2016-08-25  0.00\n",
       "10  2016-08-25  0.00"
      ]
     },
     "execution_count": 13,
     "metadata": {},
     "output_type": "execute_result"
    }
   ],
   "source": [
    "# Loads the data from the query into pandas dataframe\n",
    "rain_measurement_df = pd.DataFrame(rain_measurement)\n",
    "rain_measurement_dropped_df = rain_measurement_df.dropna(how='any')\n",
    "rain_measurement_dropped_df.head(10)"
   ]
  },
  {
   "cell_type": "code",
   "execution_count": 14,
   "metadata": {},
   "outputs": [
    {
     "data": {
      "text/html": [
       "<div>\n",
       "<style scoped>\n",
       "    .dataframe tbody tr th:only-of-type {\n",
       "        vertical-align: middle;\n",
       "    }\n",
       "\n",
       "    .dataframe tbody tr th {\n",
       "        vertical-align: top;\n",
       "    }\n",
       "\n",
       "    .dataframe thead th {\n",
       "        text-align: right;\n",
       "    }\n",
       "</style>\n",
       "<table border=\"1\" class=\"dataframe\">\n",
       "  <thead>\n",
       "    <tr style=\"text-align: right;\">\n",
       "      <th></th>\n",
       "      <th>prcp</th>\n",
       "    </tr>\n",
       "    <tr>\n",
       "      <th>date</th>\n",
       "      <th></th>\n",
       "    </tr>\n",
       "  </thead>\n",
       "  <tbody>\n",
       "    <tr>\n",
       "      <th>2016-08-24</th>\n",
       "      <td>0.08</td>\n",
       "    </tr>\n",
       "    <tr>\n",
       "      <th>2016-08-24</th>\n",
       "      <td>2.15</td>\n",
       "    </tr>\n",
       "    <tr>\n",
       "      <th>2016-08-24</th>\n",
       "      <td>2.28</td>\n",
       "    </tr>\n",
       "    <tr>\n",
       "      <th>2016-08-24</th>\n",
       "      <td>1.22</td>\n",
       "    </tr>\n",
       "    <tr>\n",
       "      <th>2016-08-24</th>\n",
       "      <td>2.15</td>\n",
       "    </tr>\n",
       "  </tbody>\n",
       "</table>\n",
       "</div>"
      ],
      "text/plain": [
       "            prcp\n",
       "date            \n",
       "2016-08-24  0.08\n",
       "2016-08-24  2.15\n",
       "2016-08-24  2.28\n",
       "2016-08-24  1.22\n",
       "2016-08-24  2.15"
      ]
     },
     "execution_count": 14,
     "metadata": {},
     "output_type": "execute_result"
    }
   ],
   "source": [
    "rain_measurement_dropped_df.set_index('date').head()"
   ]
  },
  {
   "cell_type": "code",
   "execution_count": 15,
   "metadata": {},
   "outputs": [
    {
     "data": {
      "image/png": "[encoded data removed]",
      "text/plain": [
       "<Figure size 432x288 with 1 Axes>"
      ]
     },
     "metadata": {},
     "output_type": "display_data"
    }
   ],
   "source": [
    "# plot the dataframe\n",
    "rain_measurement_dropped_df.plot('date', 'prcp')\n",
    "plt.title(\"Precipitation Analysis\")\n",
    "plt.xlabel(\"Date\")\n",
    "plt.ylabel(\"Rain (Inches)\")\n",
    "plt.legend([\"Precipitation\"])\n",
    "plt.xticks(rotation=35)\n",
    "plt.tight_layout()\n",
    "plt.savefig(\"Precipitation_Analysis.png\")\n",
    "plt.show()"
   ]
  },
  {
   "cell_type": "code",
   "execution_count": 16,
   "metadata": {},
   "outputs": [
    {
     "data": {
      "text/html": [
       "<div>\n",
       "<style scoped>\n",
       "    .dataframe tbody tr th:only-of-type {\n",
       "        vertical-align: middle;\n",
       "    }\n",
       "\n",
       "    .dataframe tbody tr th {\n",
       "        vertical-align: top;\n",
       "    }\n",
       "\n",
       "    .dataframe thead th {\n",
       "        text-align: right;\n",
       "    }\n",
       "</style>\n",
       "<table border=\"1\" class=\"dataframe\">\n",
       "  <thead>\n",
       "    <tr style=\"text-align: right;\">\n",
       "      <th></th>\n",
       "      <th>prcp</th>\n",
       "    </tr>\n",
       "  </thead>\n",
       "  <tbody>\n",
       "    <tr>\n",
       "      <th>count</th>\n",
       "      <td>2015.000000</td>\n",
       "    </tr>\n",
       "    <tr>\n",
       "      <th>mean</th>\n",
       "      <td>0.176462</td>\n",
       "    </tr>\n",
       "    <tr>\n",
       "      <th>std</th>\n",
       "      <td>0.460288</td>\n",
       "    </tr>\n",
       "    <tr>\n",
       "      <th>min</th>\n",
       "      <td>0.000000</td>\n",
       "    </tr>\n",
       "    <tr>\n",
       "      <th>25%</th>\n",
       "      <td>0.000000</td>\n",
       "    </tr>\n",
       "    <tr>\n",
       "      <th>50%</th>\n",
       "      <td>0.020000</td>\n",
       "    </tr>\n",
       "    <tr>\n",
       "      <th>75%</th>\n",
       "      <td>0.130000</td>\n",
       "    </tr>\n",
       "    <tr>\n",
       "      <th>max</th>\n",
       "      <td>6.700000</td>\n",
       "    </tr>\n",
       "  </tbody>\n",
       "</table>\n",
       "</div>"
      ],
      "text/plain": [
       "              prcp\n",
       "count  2015.000000\n",
       "mean      0.176462\n",
       "std       0.460288\n",
       "min       0.000000\n",
       "25%       0.000000\n",
       "50%       0.020000\n",
       "75%       0.130000\n",
       "max       6.700000"
      ]
     },
     "execution_count": 16,
     "metadata": {},
     "output_type": "execute_result"
    }
   ],
   "source": [
    "# Displaying the summary statistics for the precipitation data\n",
    "rain_measurement_dropped_df.describe()"
   ]
  },
  {
   "cell_type": "code",
   "execution_count": 17,
   "metadata": {},
   "outputs": [
    {
     "name": "stdout",
     "output_type": "stream",
     "text": [
      "There are 9 stations.\n"
     ]
    }
   ],
   "source": [
    "# Variable storing total number of stations in the Measurement table then printing results using a format statement\n",
    "station_total = session.query(Measurement).group_by(Measurement.station).count()\n",
    "print(\"There are {} stations.\".format(station_total))"
   ]
  },
  {
   "cell_type": "code",
   "execution_count": 18,
   "metadata": {},
   "outputs": [
    {
     "name": "stdout",
     "output_type": "stream",
     "text": [
      "Stations and their number of observations in descending order:\n",
      "\n",
      "Station USC00519281 had 2772 weather observations.\n",
      "Station USC00519397 had 2724 weather observations.\n",
      "Station USC00513117 had 2709 weather observations.\n",
      "Station USC00519523 had 2669 weather observations.\n",
      "Station USC00516128 had 2612 weather observations.\n",
      "Station USC00514830 had 2202 weather observations.\n",
      "Station USC00511918 had 1979 weather observations.\n",
      "Station USC00517948 had 1372 weather observations.\n",
      "Station USC00518838 had 511 weather observations.\n",
      "\n",
      "The most active station was USC00519281 counting 2772 observations.\n"
     ]
    }
   ],
   "source": [
    "# Variable storing the query from the measurement station and grabbing the count of tobs then grouping it by measurement station and finally ordering the count as descending for all values\n",
    "active_station = session.query(Measurement.station, func.count(Measurement.tobs)).group_by(Measurement.station).\\\n",
    "                 order_by(func.count(Measurement.tobs).desc()).all()\n",
    "\n",
    "# Variable storing the most active station (since the list of stations are in descending making the most active one immediatley at the top hence indexing at '[0][0]')\n",
    "most_active = active_station[0][0]    \n",
    "\n",
    "# Print statment \n",
    "print(\"Stations and their number of observations in descending order:\")\n",
    "\n",
    "# Print statment for spaceing \n",
    "print()\n",
    "\n",
    "# For loop bringing in the first index value and the second from 'active_station' followed with printing the results in a sentence \n",
    "for x, y in active_station:\n",
    "    print(\"Station\", x,\"had\", y, \"weather observations.\")\n",
    "\n",
    "# Print statement for spacing\n",
    "print()\n",
    "\n",
    "# Print statement for displaying the most active station\n",
    "print(\"The most active station was\",most_active,\"counting\",active_station[0][1],\"observations.\")"
   ]
  },
  {
   "cell_type": "code",
   "execution_count": 19,
   "metadata": {},
   "outputs": [],
   "source": [
    "# Variable that stores query to pull the previous year of precipitation data for the busiest station to use for histogram\n",
    "most_active_station_data = session.query(Measurement.station, Measurement.date, Measurement.tobs).\\\n",
    "    filter(Measurement.station == most_active).filter(Measurement.date > previous_year).order_by(Measurement.date).all()"
   ]
  },
  {
   "cell_type": "code",
   "execution_count": 20,
   "metadata": {},
   "outputs": [
    {
     "data": {
      "image/png": "[encoded data removed]",
      "text/plain": [
       "<Figure size 432x288 with 1 Axes>"
      ]
     },
     "metadata": {},
     "output_type": "display_data"
    }
   ],
   "source": [
    "# Histogram plot of the temperature data for the most active station\n",
    "temperature_df =pd.DataFrame(most_active_station_data)\n",
    "plt.hist(temperature_df['tobs'])\n",
    "plt.title(\"Station Analysis for\" + \" \" + most_active)\n",
    "plt.xlabel(\"Temperature\")\n",
    "plt.ylabel(\"Frequency\")\n",
    "plt.savefig(\"Station_Analysis.png\")\n",
    "plt.show()"
   ]
  },
  {
   "cell_type": "code",
   "execution_count": 21,
   "metadata": {},
   "outputs": [
    {
     "data": {
      "text/plain": [
       "[58.0, 87.0, 74.64288840262581]"
      ]
     },
     "execution_count": 21,
     "metadata": {},
     "output_type": "execute_result"
    }
   ],
   "source": [
    "# Variable that stores a list of the min, max, and average temps\n",
    "temperature_list = []\n",
    "\n",
    "# Variable storing the starting date \n",
    "start_date='2016-08-01'\n",
    "\n",
    "# Variable storing the ending date\n",
    "end_date='2017-08-01'\n",
    "\n",
    "# Creates a query that will calculate the min, max, and avg for all data in measurement.tobs then labels them a designated name\n",
    "def calc_temps(start_date, end_date):\n",
    "    results=session.query(func.min(Measurement.tobs).label(\"min_tobs\"),\\\n",
    "                          func.max(Measurement.tobs).label(\"max_tobs\"),\\\n",
    "                          func.avg(Measurement.tobs).label(\"avg_tobs\")).\\\n",
    "                          filter(Measurement.date.between(start_date , end_date))  \n",
    "\n",
    "    # Pulling only one result for each min, max, and avg\n",
    "    result_one = results.one()\n",
    "    \n",
    "    # Variables that store the first result of the labeled calculation for min, max, and avg\n",
    "    TMIN = result_one.min_tobs\n",
    "    TMAX = result_one.max_tobs\n",
    "    TAVG= result_one.avg_tobs\n",
    "    \n",
    "    # Adds/appends the temperature min, max, and avg to the above temperature list\n",
    "    temperature_list.append(TMIN)\n",
    "    temperature_list.append(TMAX)\n",
    "    temperature_list.append(TAVG)\n",
    "\n",
    "# Displays the temperature list from between the dates created in start_date and end_date variables   \n",
    "calc_temps(start_date, end_date)\n",
    "temperature_list"
   ]
  },
  {
   "cell_type": "code",
   "execution_count": 22,
   "metadata": {},
   "outputs": [],
   "source": [
    "# Variables created to store the position of the min, max, and avg temperatures in the temperature_list\n",
    "TMIN = temperature_list[0]\n",
    "TMAX = temperature_list[1]\n",
    "TAVG = temperature_list[2]"
   ]
  },
  {
   "cell_type": "code",
   "execution_count": 23,
   "metadata": {},
   "outputs": [
    {
     "name": "stderr",
     "output_type": "stream",
     "text": [
      "C:\\Users\\btech\\Anaconda3\\envs\\PythonData\\lib\\site-packages\\matplotlib\\figure.py:98: MatplotlibDeprecationWarning: \n",
      "Adding an axes using the same arguments as a previous axes currently reuses the earlier instance.  In a future version, a new instance will always be created and returned.  Meanwhile, this warning can be suppressed, and the future behavior ensured, by passing a unique label to each axes instance.\n",
      "  \"Adding an axes using the same arguments as a previous axes \"\n"
     ]
    },
    {
     "data": {
      "image/png": "[encoded data removed]",
      "text/plain": [
       "<Figure size 432x288 with 1 Axes>"
      ]
     },
     "metadata": {},
     "output_type": "display_data"
    }
   ],
   "source": [
    "# Bar chart showing the TAVG / Average Temperature from 2016-08-01 to 2017-08-01 with a yerr of TMAX-TMIN (For some reason TAVG-TMIN was giving me the accurate yerror and not TMAX-TMIN...I'm not sure why?) )\n",
    "# plt.bar(1, TAVG, color = 'tan', yerr = TMAX-TMIN, align='center')\n",
    "plt.bar(1, TAVG, color = 'tan', yerr = TAVG-TMIN, align='center')\n",
    "plt.axes().get_xaxis().set_visible(False)\n",
    "plt.xlim(-0.2, 2.2)\n",
    "plt.ylim([0, 110])\n",
    "plt.title('Trip Avg Temp')\n",
    "plt.ylabel(\"Temp (F)\")\n",
    "plt.savefig(\"Trip_Avg_Temp.png\")\n",
    "plt.show()"
   ]
  },
  {
   "cell_type": "code",
   "execution_count": 24,
   "metadata": {},
   "outputs": [
    {
     "data": {
      "text/plain": [
       "[('USC00513117', 365),\n",
       " ('USC00514830', 261),\n",
       " ('USC00516128', 331),\n",
       " ('USC00517948', 67),\n",
       " ('USC00519281', 365),\n",
       " ('USC00519397', 361),\n",
       " ('USC00519523', 320)]"
      ]
     },
     "execution_count": 24,
     "metadata": {},
     "output_type": "execute_result"
    }
   ],
   "source": [
    "# Variable storing the query for each station in measurment that uses a function to count the precipitation (prcp) then group the counts by station while filtering the data to only display between the date/timeframe 2016-08-01 to 2017-08-01  \n",
    "station_prcp = session.query(Measurement.station, func.count(Measurement.prcp)).group_by(Measurement.station).filter(Measurement.date.between('2016-08-01', '2017-08-01')).all()\n",
    "station_prcp"
   ]
  },
  {
   "cell_type": "code",
   "execution_count": 25,
   "metadata": {},
   "outputs": [
    {
     "data": {
      "text/plain": [
       "[('2010-01-15'),\n",
       " ('2011-01-15'),\n",
       " ('2012-01-15'),\n",
       " ('2013-01-15'),\n",
       " ('2014-01-15'),\n",
       " ('2015-01-15'),\n",
       " ('2016-01-15'),\n",
       " ('2017-01-15')]"
      ]
     },
     "execution_count": 25,
     "metadata": {},
     "output_type": "execute_result"
    }
   ],
   "source": [
    "# Variable that is used to store the month number \n",
    "month_date = 1\n",
    "\n",
    "# Variable that is used to store the range for the date '15th' that coincides with the date used previously\n",
    "day_date = range(1, 16)\n",
    "\n",
    "# For Loop that queries through the dates in order to extract 01-15 date over the course of 7 years\n",
    "for date in range(1, 16):\n",
    "    \n",
    "    # Variable that stores the query that uses .extract() in order to filter the measurment date equal to the variable \"month_date\" and the day that is equal to 'date' from the for loop then grouping/ordering by measurement date \n",
    "    query_dates = session.query(Measurement.date).filter(extract('month', Measurement.date) == month_date).filter(extract('day', Measurement.date) == date ).group_by(Measurement.date).order_by(Measurement.date).all()\n",
    "\n",
    "# Displaying the results\n",
    "query_dates"
   ]
  },
  {
   "cell_type": "code",
   "execution_count": 26,
   "metadata": {},
   "outputs": [
    {
     "name": "stdout",
     "output_type": "stream",
     "text": [
      "('2010-01-01', 65.0, 69.71428571428571, 75.0)\n",
      "('2011-01-01', 69.0, 72.14285714285714, 77.0)\n",
      "('2012-01-01', 63.0, 68.42857142857143, 71.0)\n",
      "('2013-01-01', 69.0, 70.5, 72.0)\n",
      "('2014-01-01', 65.0, 68.66666666666667, 75.0)\n",
      "('2015-01-01', 63.0, 66.28571428571429, 71.0)\n",
      "('2016-01-01', 62.0, 68.16666666666667, 74.0)\n",
      "('2017-01-01', 62.0, 69.33333333333333, 74.0)\n",
      "('2010-01-02', 61.0, 67.0, 75.0)\n",
      "('2011-01-02', 70.0, 72.0, 74.0)\n",
      "('2012-01-02', 63.0, 65.8, 71.0)\n",
      "('2013-01-02', 67.0, 70.0, 73.0)\n",
      "('2014-01-02', 69.0, 73.625, 77.0)\n",
      "('2015-01-02', 60.0, 65.0, 72.0)\n",
      "('2016-01-02', 69.0, 71.83333333333333, 73.0)\n",
      "('2017-01-02', 66.0, 69.2, 74.0)\n",
      "('2010-01-03', 67.0, 74.0, 77.0)\n",
      "('2011-01-03', 69.0, 72.28571428571429, 74.0)\n",
      "('2012-01-03', 63.0, 65.71428571428571, 70.0)\n",
      "('2013-01-03', 66.0, 68.28571428571429, 70.0)\n",
      "('2014-01-03', 65.0, 68.25, 73.0)\n",
      "('2015-01-03', 62.0, 66.42857142857143, 72.0)\n",
      "('2016-01-03', 63.0, 68.5, 75.0)\n",
      "('2017-01-03', 63.0, 67.66666666666667, 73.0)\n",
      "('2010-01-04', 72.0, 75.0, 76.0)\n",
      "('2011-01-04', 62.0, 70.55555555555556, 73.0)\n",
      "('2012-01-04', 68.0, 72.125, 76.0)\n",
      "('2013-01-04', 67.0, 70.71428571428571, 73.0)\n",
      "('2014-01-04', 65.0, 69.28571428571429, 73.0)\n",
      "('2015-01-04', 58.0, 64.71428571428571, 72.0)\n",
      "('2016-01-04', 62.0, 69.5, 76.0)\n",
      "('2017-01-04', 62.0, 67.16666666666667, 73.0)\n",
      "('2010-01-05', 73.0, 74.5, 76.0)\n",
      "('2011-01-05', 61.0, 65.66666666666667, 71.0)\n",
      "('2012-01-05', 64.0, 70.625, 74.0)\n",
      "('2013-01-05', 67.0, 71.14285714285714, 73.0)\n",
      "('2014-01-05', 61.0, 65.83333333333333, 69.0)\n",
      "('2015-01-05', 56.0, 60.125, 73.0)\n",
      "('2016-01-05', 68.0, 70.66666666666667, 75.0)\n",
      "('2017-01-05', 63.0, 67.5, 72.0)\n",
      "('2010-01-06', 71.0, 73.33333333333333, 76.0)\n",
      "('2011-01-06', 65.0, 67.0, 72.0)\n",
      "('2012-01-06', 65.0, 69.625, 72.0)\n",
      "('2013-01-06', 67.0, 71.5, 73.0)\n",
      "('2014-01-06', 61.0, 67.11111111111111, 73.0)\n",
      "('2015-01-06', 63.0, 66.375, 72.0)\n",
      "('2016-01-06', 68.0, 71.33333333333333, 74.0)\n",
      "('2017-01-06', 62.0, 67.66666666666667, 74.0)\n",
      "('2010-01-07', 68.0, 70.42857142857143, 74.0)\n",
      "('2011-01-07', 63.0, 65.33333333333333, 68.0)\n",
      "('2012-01-07', 62.0, 69.33333333333333, 74.0)\n",
      "('2013-01-07', 67.0, 71.0, 74.0)\n",
      "('2014-01-07', 60.0, 68.5, 71.0)\n",
      "('2015-01-07', 57.0, 65.875, 70.0)\n",
      "('2016-01-07', 64.0, 69.5, 76.0)\n",
      "('2017-01-07', 66.0, 70.16666666666667, 72.0)\n",
      "('2010-01-08', 63.0, 65.57142857142857, 73.0)\n",
      "('2011-01-08', 62.0, 65.57142857142857, 73.0)\n",
      "('2012-01-08', 61.0, 64.16666666666667, 71.0)\n",
      "('2013-01-08', 68.0, 70.71428571428571, 72.0)\n",
      "('2014-01-08', 63.0, 68.44444444444444, 71.0)\n",
      "('2015-01-08', 57.0, 65.25, 74.0)\n",
      "('2016-01-08', 65.0, 69.83333333333333, 75.0)\n",
      "('2017-01-08', 60.0, 67.66666666666667, 74.0)\n",
      "('2010-01-09', 67.0, 68.57142857142857, 70.0)\n",
      "('2011-01-09', 58.0, 62.714285714285715, 73.0)\n",
      "('2012-01-09', 62.0, 68.42857142857143, 74.0)\n",
      "('2013-01-09', 67.0, 70.42857142857143, 74.0)\n",
      "('2014-01-09', 61.0, 65.875, 70.0)\n",
      "('2015-01-09', 62.0, 66.875, 75.0)\n",
      "('2016-01-09', 70.0, 74.16666666666667, 78.0)\n",
      "('2017-01-09', 62.0, 67.71428571428571, 77.0)\n",
      "('2010-01-10', 70.0, 72.71428571428571, 75.0)\n",
      "('2011-01-10', 64.0, 70.11111111111111, 73.0)\n",
      "('2012-01-10', 62.0, 68.0, 71.0)\n",
      "('2013-01-10', 68.0, 71.25, 74.0)\n",
      "('2014-01-10', 65.0, 69.75, 74.0)\n",
      "('2015-01-10', 65.0, 70.2, 77.0)\n",
      "('2016-01-10', 64.0, 69.4, 74.0)\n",
      "('2017-01-10', 62.0, 66.71428571428571, 75.0)\n",
      "('2010-01-11', 64.0, 66.71428571428571, 72.0)\n",
      "('2011-01-11', 57.0, 60.22222222222222, 74.0)\n",
      "('2012-01-11', 64.0, 67.88888888888889, 73.0)\n",
      "('2013-01-11', 68.0, 70.71428571428571, 72.0)\n",
      "('2014-01-11', 64.0, 69.28571428571429, 75.0)\n",
      "('2015-01-11', 61.0, 67.57142857142857, 75.0)\n",
      "('2016-01-11', 65.0, 69.16666666666667, 73.0)\n",
      "('2017-01-11', 63.0, 69.33333333333333, 78.0)\n",
      "('2010-01-12', 57.0, 61.57142857142857, 68.0)\n",
      "('2011-01-12', 66.0, 68.57142857142857, 71.0)\n",
      "('2012-01-12', 62.0, 67.0, 74.0)\n",
      "('2013-01-12', 66.0, 68.6, 71.0)\n",
      "('2014-01-12', 68.0, 72.66666666666667, 80.0)\n",
      "('2015-01-12', 60.0, 65.0, 73.0)\n",
      "('2016-01-12', 64.0, 68.66666666666667, 75.0)\n",
      "('2017-01-12', 65.0, 69.16666666666667, 81.0)\n",
      "('2010-01-13', 57.0, 61.5, 68.0)\n",
      "('2011-01-13', 65.0, 67.625, 70.0)\n",
      "('2012-01-13', 62.0, 65.57142857142857, 69.0)\n",
      "('2013-01-13', 68.0, 71.83333333333333, 77.0)\n",
      "('2014-01-13', 65.0, 69.125, 77.0)\n",
      "('2015-01-13', 58.0, 65.25, 72.0)\n",
      "('2016-01-13', 63.0, 68.0, 77.0)\n",
      "('2017-01-13', 67.0, 69.33333333333333, 75.0)\n",
      "('2010-01-14', 65.0, 66.42857142857143, 69.0)\n",
      "('2011-01-14', 71.0, 74.375, 76.0)\n",
      "('2012-01-14', 58.0, 63.57142857142857, 74.0)\n",
      "('2013-01-14', 68.0, 72.625, 75.0)\n",
      "('2014-01-14', 67.0, 72.375, 75.0)\n",
      "('2015-01-14', 63.0, 68.0, 72.0)\n",
      "('2016-01-14', 62.0, 66.5, 75.0)\n",
      "('2017-01-14', 65.0, 71.0, 77.0)\n",
      "('2010-01-15', 56.0, 64.83333333333333, 69.0)\n",
      "('2011-01-15', 66.0, 68.2, 73.0)\n",
      "('2012-01-15', 73.0, 74.28571428571429, 76.0)\n",
      "('2013-01-15', 63.0, 66.71428571428571, 73.0)\n",
      "('2014-01-15', 62.0, 67.71428571428571, 74.0)\n",
      "('2015-01-15', 65.0, 71.625, 75.0)\n",
      "('2016-01-15', 67.0, 70.33333333333333, 74.0)\n",
      "('2017-01-15', 66.0, 69.8, 78.0)\n"
     ]
    }
   ],
   "source": [
    "# Variables that store the list of dates, TMIN's, TAVG's, and TMAX's\n",
    "date_holder = []\n",
    "TMIN_holder = []\n",
    "TAVG_holder = []\n",
    "TMAX_holder =[]\n",
    "\n",
    "# Variables that store the month number and range for the date '15th' that coincides with the date used previously\n",
    "month_date = 1\n",
    "day_date = range(1, 16)\n",
    "\n",
    "# Creates a query that will label the measurement dates with the date_holder list and calculate the min, avg, and max for all data in measurement.tobs then groups/orderby measurement date\n",
    "def daily_normals():   \n",
    "    for x in range(1,16):\n",
    "        daily_normal_extraction = session.query(Measurement.date.label(\"date_holder\"), \n",
    "                              func.min(Measurement.tobs).label(\"min_tobs\"),\n",
    "                              func.avg(Measurement.tobs).label(\"avg_tobs\"),\n",
    "                              func.max(Measurement.tobs).label(\"max_tobs\")).\\\n",
    "                              filter(extract('month', Measurement.date) == month_date).\\\n",
    "                              filter(extract('day', Measurement.date) == x ).group_by(Measurement.date).order_by(Measurement.date)\n",
    "        \n",
    "        # For loop that stores and prints the results from the variable called daily_normal_extraction into variables called Date, TMAX, TMIN, and TAVG\n",
    "        for y in daily_normal_extraction.all():            \n",
    "            Date = y.date_holder\n",
    "            TMAX = y.max_tobs\n",
    "            TMIN = y.min_tobs\n",
    "            TAVG = y.avg_tobs           \n",
    "            print(y)\n",
    "        \n",
    "        # Adds/appends all of the info from the previous for loop into their respective lists/holders\n",
    "        date_holder.append(Date)\n",
    "        TMIN_holder.append(TMIN)\n",
    "        TAVG_holder.append(TAVG)\n",
    "        TMAX_holder.append(TMAX)\n",
    "\n",
    "# Displays the results \n",
    "daily_normals()"
   ]
  },
  {
   "cell_type": "code",
   "execution_count": 27,
   "metadata": {},
   "outputs": [
    {
     "data": {
      "text/html": [
       "<div>\n",
       "<style scoped>\n",
       "    .dataframe tbody tr th:only-of-type {\n",
       "        vertical-align: middle;\n",
       "    }\n",
       "\n",
       "    .dataframe tbody tr th {\n",
       "        vertical-align: top;\n",
       "    }\n",
       "\n",
       "    .dataframe thead th {\n",
       "        text-align: right;\n",
       "    }\n",
       "</style>\n",
       "<table border=\"1\" class=\"dataframe\">\n",
       "  <thead>\n",
       "    <tr style=\"text-align: right;\">\n",
       "      <th></th>\n",
       "      <th>T_min</th>\n",
       "      <th>T_avg</th>\n",
       "      <th>T_max</th>\n",
       "    </tr>\n",
       "    <tr>\n",
       "      <th>Date</th>\n",
       "      <th></th>\n",
       "      <th></th>\n",
       "      <th></th>\n",
       "    </tr>\n",
       "  </thead>\n",
       "  <tbody>\n",
       "    <tr>\n",
       "      <th>2017-01-01</th>\n",
       "      <td>62.0</td>\n",
       "      <td>69.333333</td>\n",
       "      <td>74.0</td>\n",
       "    </tr>\n",
       "    <tr>\n",
       "      <th>2017-01-02</th>\n",
       "      <td>66.0</td>\n",
       "      <td>69.200000</td>\n",
       "      <td>74.0</td>\n",
       "    </tr>\n",
       "    <tr>\n",
       "      <th>2017-01-03</th>\n",
       "      <td>63.0</td>\n",
       "      <td>67.666667</td>\n",
       "      <td>73.0</td>\n",
       "    </tr>\n",
       "    <tr>\n",
       "      <th>2017-01-04</th>\n",
       "      <td>62.0</td>\n",
       "      <td>67.166667</td>\n",
       "      <td>73.0</td>\n",
       "    </tr>\n",
       "    <tr>\n",
       "      <th>2017-01-05</th>\n",
       "      <td>63.0</td>\n",
       "      <td>67.500000</td>\n",
       "      <td>72.0</td>\n",
       "    </tr>\n",
       "  </tbody>\n",
       "</table>\n",
       "</div>"
      ],
      "text/plain": [
       "            T_min      T_avg  T_max\n",
       "Date                               \n",
       "2017-01-01   62.0  69.333333   74.0\n",
       "2017-01-02   66.0  69.200000   74.0\n",
       "2017-01-03   63.0  67.666667   73.0\n",
       "2017-01-04   62.0  67.166667   73.0\n",
       "2017-01-05   63.0  67.500000   72.0"
      ]
     },
     "execution_count": 27,
     "metadata": {},
     "output_type": "execute_result"
    }
   ],
   "source": [
    "# Variable that creates a DataFrame with the data for date, tmin, tavg and tmax\n",
    "daily_df = pd.DataFrame({'Date': date_holder, \n",
    "                         'T_min': TMIN_holder,\n",
    "                         'T_avg': TAVG_holder,\n",
    "                         'T_max': TMAX_holder})\n",
    "        \n",
    "# Setting the index for 'daily_df' to date and then viewing the dataframe\n",
    "daily_df.set_index('Date', inplace=True)\n",
    "daily_df.head()"
   ]
  },
  {
   "cell_type": "code",
   "execution_count": 28,
   "metadata": {},
   "outputs": [
    {
     "data": {
      "image/png": "[encoded data removed]",
      "text/plain": [
       "<Figure size 432x288 with 1 Axes>"
      ]
     },
     "metadata": {},
     "output_type": "display_data"
    }
   ],
   "source": [
    "# Plotting the data from 'daily_df' to create an area plot for T_min, T_avg, and T_max\n",
    "daily_df.plot(kind='area', alpha=.3, stacked=False, title='Hawaii Daily Normal Temperatures')\n",
    "plt.xticks(rotation = 50)\n",
    "plt.savefig(\"Hawaii_Daily_Normal_Temperatures.png\")\n",
    "plt.show()"
   ]
  },
  {
   "cell_type": "code",
   "execution_count": null,
   "metadata": {},
   "outputs": [],
   "source": []
  }
 ],
 "metadata": {
  "kernelspec": {
   "display_name": "Python [conda env:PythonData]",
   "language": "python",
   "name": "conda-env-PythonData-py"
  },
  "language_info": {
   "codemirror_mode": {
    "name": "ipython",
    "version": 3
   },
   "file_extension": ".py",
   "mimetype": "text/x-python",
   "name": "python",
   "nbconvert_exporter": "python",
   "pygments_lexer": "ipython3",
   "version": "3.6.8"
  }
 },
 "nbformat": 4,
 "nbformat_minor": 2
}
