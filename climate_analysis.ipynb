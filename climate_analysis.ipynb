{
 "cells": [
  {
   "cell_type": "code",
   "execution_count": 2,
   "metadata": {},
   "outputs": [],
   "source": [
    "# Import SQLAlchemy and other dependencies \n",
    "# Python SQL toolkit and Object Relational Mapper\n",
    "import sqlalchemy\n",
    "from sqlalchemy.ext.automap import automap_base\n",
    "from sqlalchemy.orm import Session\n",
    "from sqlalchemy import create_engine, inspect, func\n",
    "import datetime as dt\n",
    "import pandas as pd\n",
    "import matplotlib\n",
    "from matplotlib import style\n",
    "style.use('seaborn')\n",
    "import matplotlib.pyplot as plt\n",
    "from sqlalchemy import Column, Integer, String, Float, Text, ForeignKey\n",
    "import numpy as np"
   ]
  },
  {
   "cell_type": "code",
   "execution_count": 3,
   "metadata": {},
   "outputs": [],
   "source": [
    "# Create engine using the `hawaii.sqlite` database file created in database_engineering steps\n",
    "engine = create_engine(\"sqlite:///Resources/hawaii.sqlite\")"
   ]
  },
  {
   "cell_type": "code",
   "execution_count": 4,
   "metadata": {},
   "outputs": [],
   "source": [
    "# Declare a Base using `automap_base()`\n",
    "Base = automap_base()"
   ]
  },
  {
   "cell_type": "code",
   "execution_count": 5,
   "metadata": {},
   "outputs": [],
   "source": [
    "# Use the Base class to reflect the database tables\n",
    "Base.prepare(engine, reflect=True)"
   ]
  },
  {
   "cell_type": "code",
   "execution_count": 6,
   "metadata": {},
   "outputs": [
    {
     "data": {
      "text/plain": [
       "['measurement', 'station']"
      ]
     },
     "execution_count": 6,
     "metadata": {},
     "output_type": "execute_result"
    }
   ],
   "source": [
    "# Print all of the classes mapped to the Base\n",
    "Base.classes.keys()"
   ]
  },
  {
   "cell_type": "code",
   "execution_count": 7,
   "metadata": {},
   "outputs": [
    {
     "data": {
      "text/plain": [
       "['measurement', 'station']"
      ]
     },
     "execution_count": 7,
     "metadata": {},
     "output_type": "execute_result"
    }
   ],
   "source": [
    "# Create the inspector and connect it to the engine\n",
    "inspector = inspect(engine)\n",
    "\n",
    "# Collect the names of tables within the database\n",
    "inspector.get_table_names()"
   ]
  },
  {
   "cell_type": "code",
   "execution_count": 8,
   "metadata": {},
   "outputs": [
    {
     "data": {
      "text/plain": [
       "[(1, 'USC00519397', '2010-01-01', 0.08, 65.0),\n",
       " (2, 'USC00519397', '2010-01-02', 0.0, 63.0),\n",
       " (3, 'USC00519397', '2010-01-03', 0.0, 74.0),\n",
       " (4, 'USC00519397', '2010-01-04', 0.0, 76.0),\n",
       " (5, 'USC00519397', '2010-01-06', None, 73.0),\n",
       " (6, 'USC00519397', '2010-01-07', 0.06, 70.0),\n",
       " (7, 'USC00519397', '2010-01-08', 0.0, 64.0),\n",
       " (8, 'USC00519397', '2010-01-09', 0.0, 68.0),\n",
       " (9, 'USC00519397', '2010-01-10', 0.0, 73.0),\n",
       " (10, 'USC00519397', '2010-01-11', 0.01, 64.0)]"
      ]
     },
     "execution_count": 8,
     "metadata": {},
     "output_type": "execute_result"
    }
   ],
   "source": [
    "# Use `engine.execute` to select and display the first 10 rows from the table\n",
    "\n",
    "engine.execute('SELECT * FROM measurement LIMIT 10').fetchall()"
   ]
  },
  {
   "cell_type": "code",
   "execution_count": 9,
   "metadata": {},
   "outputs": [],
   "source": [
    "# Reflect Database into ORM class\n",
    "Station = Base.classes.station\n",
    "Measurements = Base.classes.measurement"
   ]
  },
  {
   "cell_type": "code",
   "execution_count": 10,
   "metadata": {},
   "outputs": [],
   "source": [
    "# Start a session to query the database\n",
    "session = Session(engine)"
   ]
  },
  {
   "cell_type": "code",
   "execution_count": 11,
   "metadata": {},
   "outputs": [
    {
     "name": "stdout",
     "output_type": "stream",
     "text": [
      "('2017-08-23',)\n"
     ]
    }
   ],
   "source": [
    "# Grabs the last date entry in the data table\n",
    "last_date = session.query(Measurements.date).order_by(Measurements.date.desc()).first()\n",
    "print(last_date)"
   ]
  },
  {
   "cell_type": "code",
   "execution_count": 12,
   "metadata": {},
   "outputs": [
    {
     "name": "stdout",
     "output_type": "stream",
     "text": [
      "2016-08-23\n"
     ]
    }
   ],
   "source": [
    "# to get the last 12 months of data, last date - 365\n",
    "last_year = dt.date(2017, 8, 23) - dt.timedelta(days=365)\n",
    "print(last_year)"
   ]
  },
  {
   "cell_type": "code",
   "execution_count": 13,
   "metadata": {},
   "outputs": [],
   "source": [
    "# query to pull the last year of precipitation data\n",
    "rain = session.query(Measurements.date, Measurements.prcp).\\\n",
    "    filter(Measurements.date > last_year).\\\n",
    "    order_by(Measurements.date).all()"
   ]
  },
  {
   "cell_type": "code",
   "execution_count": 14,
   "metadata": {},
   "outputs": [
    {
     "data": {
      "text/html": [
       "<div>\n",
       "<style scoped>\n",
       "    .dataframe tbody tr th:only-of-type {\n",
       "        vertical-align: middle;\n",
       "    }\n",
       "\n",
       "    .dataframe tbody tr th {\n",
       "        vertical-align: top;\n",
       "    }\n",
       "\n",
       "    .dataframe thead th {\n",
       "        text-align: right;\n",
       "    }\n",
       "</style>\n",
       "<table border=\"1\" class=\"dataframe\">\n",
       "  <thead>\n",
       "    <tr style=\"text-align: right;\">\n",
       "      <th></th>\n",
       "      <th>date</th>\n",
       "      <th>prcp</th>\n",
       "    </tr>\n",
       "  </thead>\n",
       "  <tbody>\n",
       "    <tr>\n",
       "      <th>0</th>\n",
       "      <td>2016-08-24</td>\n",
       "      <td>0.08</td>\n",
       "    </tr>\n",
       "    <tr>\n",
       "      <th>1</th>\n",
       "      <td>2016-08-24</td>\n",
       "      <td>2.15</td>\n",
       "    </tr>\n",
       "    <tr>\n",
       "      <th>2</th>\n",
       "      <td>2016-08-24</td>\n",
       "      <td>2.28</td>\n",
       "    </tr>\n",
       "    <tr>\n",
       "      <th>3</th>\n",
       "      <td>2016-08-24</td>\n",
       "      <td>NaN</td>\n",
       "    </tr>\n",
       "    <tr>\n",
       "      <th>4</th>\n",
       "      <td>2016-08-24</td>\n",
       "      <td>1.22</td>\n",
       "    </tr>\n",
       "  </tbody>\n",
       "</table>\n",
       "</div>"
      ],
      "text/plain": [
       "         date  prcp\n",
       "0  2016-08-24  0.08\n",
       "1  2016-08-24  2.15\n",
       "2  2016-08-24  2.28\n",
       "3  2016-08-24   NaN\n",
       "4  2016-08-24  1.22"
      ]
     },
     "execution_count": 14,
     "metadata": {},
     "output_type": "execute_result"
    }
   ],
   "source": [
    "# Load the data from the query into a dataframe\n",
    "rain_df = pd.DataFrame(rain)\n",
    "rain_df.head()"
   ]
  },
  {
   "cell_type": "code",
   "execution_count": 15,
   "metadata": {},
   "outputs": [
    {
     "data": {
      "text/html": [
       "<div>\n",
       "<style scoped>\n",
       "    .dataframe tbody tr th:only-of-type {\n",
       "        vertical-align: middle;\n",
       "    }\n",
       "\n",
       "    .dataframe tbody tr th {\n",
       "        vertical-align: top;\n",
       "    }\n",
       "\n",
       "    .dataframe thead th {\n",
       "        text-align: right;\n",
       "    }\n",
       "</style>\n",
       "<table border=\"1\" class=\"dataframe\">\n",
       "  <thead>\n",
       "    <tr style=\"text-align: right;\">\n",
       "      <th></th>\n",
       "      <th>prcp</th>\n",
       "    </tr>\n",
       "    <tr>\n",
       "      <th>date</th>\n",
       "      <th></th>\n",
       "    </tr>\n",
       "  </thead>\n",
       "  <tbody>\n",
       "    <tr>\n",
       "      <th>2016-08-24</th>\n",
       "      <td>0.08</td>\n",
       "    </tr>\n",
       "    <tr>\n",
       "      <th>2016-08-24</th>\n",
       "      <td>2.15</td>\n",
       "    </tr>\n",
       "    <tr>\n",
       "      <th>2016-08-24</th>\n",
       "      <td>2.28</td>\n",
       "    </tr>\n",
       "    <tr>\n",
       "      <th>2016-08-24</th>\n",
       "      <td>NaN</td>\n",
       "    </tr>\n",
       "    <tr>\n",
       "      <th>2016-08-24</th>\n",
       "      <td>1.22</td>\n",
       "    </tr>\n",
       "  </tbody>\n",
       "</table>\n",
       "</div>"
      ],
      "text/plain": [
       "            prcp\n",
       "date            \n",
       "2016-08-24  0.08\n",
       "2016-08-24  2.15\n",
       "2016-08-24  2.28\n",
       "2016-08-24   NaN\n",
       "2016-08-24  1.22"
      ]
     },
     "execution_count": 15,
     "metadata": {},
     "output_type": "execute_result"
    }
   ],
   "source": [
    "# reset the index to the date\n",
    "rain_df.set_index('date').head()"
   ]
  },
  {
   "cell_type": "code",
   "execution_count": 16,
   "metadata": {},
   "outputs": [
    {
     "data": {
      "image/png": "[encoded data removed]",
      "text/plain": [
       "<Figure size 432x288 with 1 Axes>"
      ]
     },
     "metadata": {
      "needs_background": "light"
     },
     "output_type": "display_data"
    }
   ],
   "source": [
    "# plot the dataframe\n",
    "rain_df.plot('date', 'prcp')\n",
    "plt.xlabel(\"Date\")\n",
    "plt.ylabel(\"Rain in Inches\")\n",
    "plt.title(\"Precipitation Analysis (8/24/16 to 8/23/17)\")\n",
    "plt.legend([\"Precipitation\"])\n",
    "plt.xticks(rotation=45)\n",
    "plt.tight_layout()\n",
    "plt.show()"
   ]
  },
  {
   "cell_type": "code",
   "execution_count": 17,
   "metadata": {},
   "outputs": [
    {
     "data": {
      "text/html": [
       "<div>\n",
       "<style scoped>\n",
       "    .dataframe tbody tr th:only-of-type {\n",
       "        vertical-align: middle;\n",
       "    }\n",
       "\n",
       "    .dataframe tbody tr th {\n",
       "        vertical-align: top;\n",
       "    }\n",
       "\n",
       "    .dataframe thead th {\n",
       "        text-align: right;\n",
       "    }\n",
       "</style>\n",
       "<table border=\"1\" class=\"dataframe\">\n",
       "  <thead>\n",
       "    <tr style=\"text-align: right;\">\n",
       "      <th></th>\n",
       "      <th>prcp</th>\n",
       "    </tr>\n",
       "  </thead>\n",
       "  <tbody>\n",
       "    <tr>\n",
       "      <th>count</th>\n",
       "      <td>2015.000000</td>\n",
       "    </tr>\n",
       "    <tr>\n",
       "      <th>mean</th>\n",
       "      <td>0.176462</td>\n",
       "    </tr>\n",
       "    <tr>\n",
       "      <th>std</th>\n",
       "      <td>0.460288</td>\n",
       "    </tr>\n",
       "    <tr>\n",
       "      <th>min</th>\n",
       "      <td>0.000000</td>\n",
       "    </tr>\n",
       "    <tr>\n",
       "      <th>25%</th>\n",
       "      <td>0.000000</td>\n",
       "    </tr>\n",
       "    <tr>\n",
       "      <th>50%</th>\n",
       "      <td>0.020000</td>\n",
       "    </tr>\n",
       "    <tr>\n",
       "      <th>75%</th>\n",
       "      <td>0.130000</td>\n",
       "    </tr>\n",
       "    <tr>\n",
       "      <th>max</th>\n",
       "      <td>6.700000</td>\n",
       "    </tr>\n",
       "  </tbody>\n",
       "</table>\n",
       "</div>"
      ],
      "text/plain": [
       "              prcp\n",
       "count  2015.000000\n",
       "mean      0.176462\n",
       "std       0.460288\n",
       "min       0.000000\n",
       "25%       0.000000\n",
       "50%       0.020000\n",
       "75%       0.130000\n",
       "max       6.700000"
      ]
     },
     "execution_count": 17,
     "metadata": {},
     "output_type": "execute_result"
    }
   ],
   "source": [
    "# Use Pandas to print the summary statistics for the precipitation data.\n",
    "rain_df.describe()"
   ]
  },
  {
   "cell_type": "code",
   "execution_count": 18,
   "metadata": {},
   "outputs": [
    {
     "name": "stdout",
     "output_type": "stream",
     "text": [
      "There are 9 stations.\n"
     ]
    }
   ],
   "source": [
    "# Count the number of stations in the Measurement table\n",
    "locations = session.query(Measurements).group_by(Measurements.station).count()\n",
    "print(\"There are {} stations.\".format(locations))"
   ]
  },
  {
   "cell_type": "code",
   "execution_count": 19,
   "metadata": {},
   "outputs": [
    {
     "name": "stdout",
     "output_type": "stream",
     "text": [
      "The busiest Station was USC00519281 with 2772 weather observations.\n",
      "\n",
      "Here are all of the Stations (in descending order) with their number of observations:\n",
      "Station USC00519281 had 2772 weather observations.\n",
      "Station USC00519397 had 2724 weather observations.\n",
      "Station USC00513117 had 2709 weather observations.\n",
      "Station USC00519523 had 2669 weather observations.\n",
      "Station USC00516128 had 2612 weather observations.\n",
      "Station USC00514830 had 2202 weather observations.\n",
      "Station USC00511918 had 1979 weather observations.\n",
      "Station USC00517948 had 1372 weather observations.\n",
      "Station USC00518838 had 511 weather observations.\n"
     ]
    }
   ],
   "source": [
    "# find the station with the most temperature observations, then list them all in descending order\n",
    "busy_station = session.query(Measurements.station, func.count(Measurements.tobs)).group_by(Measurements.station).\\\n",
    "               order_by(func.count(Measurements.tobs).desc()).all()\n",
    "\n",
    "busiest = busy_station[0][0]    \n",
    "print(\"The busiest Station was\",busiest,\"with\",busy_station[0][1],\"weather observations.\")\n",
    "print()\n",
    "print(\"Here are all of the Stations (in descending order) with their number of observations:\")\n",
    "for station, count in busy_station:\n",
    "    print(\"Station\",station,\"had\",count, \"weather observations.\")"
   ]
  },
  {
   "cell_type": "code",
   "execution_count": 20,
   "metadata": {},
   "outputs": [],
   "source": [
    "# query to pull the last year of precipitation data for the busiest station\n",
    "temperature = session.query(Measurements.station, Measurements.date, Measurements.tobs).\\\n",
    "    filter(Measurements.station == busiest).\\\n",
    "    filter(Measurements.date > last_year).\\\n",
    "    order_by(Measurements.date).all()"
   ]
  },
  {
   "cell_type": "code",
   "execution_count": 21,
   "metadata": {},
   "outputs": [
    {
     "data": {
      "image/png": "[encoded data removed]",
      "text/plain": [
       "<Figure size 432x288 with 1 Axes>"
      ]
     },
     "metadata": {
      "needs_background": "light"
     },
     "output_type": "display_data"
    }
   ],
   "source": [
    "# plot the temperature data in a histogram with 12 bins\n",
    "temp_df=pd.DataFrame(temperature)\n",
    "plt.hist(temp_df['tobs'],12)\n",
    "plt.xlabel(\"Recorded Temperature\")\n",
    "plt.ylabel(\"Number of Recorded Observations\")\n",
    "plt.title(\"Station Analysis (8/24/16 to 8/23/17) for Station \" + busiest)\n",
    "plt.show()"
   ]
  },
  {
   "cell_type": "code",
   "execution_count": 22,
   "metadata": {},
   "outputs": [
    {
     "data": {
      "text/plain": [
       "[87.0, 58.0, 74.64288840262581]"
      ]
     },
     "execution_count": 22,
     "metadata": {},
     "output_type": "execute_result"
    }
   ],
   "source": [
    "Temp=[]\n",
    "start_date='2016-08-01'\n",
    "end_date='2017-08-01'\n",
    "def calc_temps(start_date, end_date):\n",
    "    results=session.query(func.max(Measurements.tobs).label(\"max_tobs\"), \\\n",
    "                          func.min(Measurements.tobs).label(\"min_tobs\"),\\\n",
    "                          func.avg(Measurements.tobs).label(\"avg_tobs\")).\\\n",
    "                          filter(Measurements.date.between(start_date , end_date))  \n",
    "    res = results.one()\n",
    "    res\n",
    "    TMAX = res.max_tobs\n",
    "    TMIN= res.min_tobs\n",
    "    TAVG= res.avg_tobs\n",
    "    Temp.append(TMAX)\n",
    "    Temp.append(TMIN)\n",
    "    Temp.append(TAVG)\n",
    "    #print(str(TMAX))\n",
    "    #print(str(TMIN))\n",
    "    #print(str(TAVG))\n",
    "calc_temps(start_date, end_date)\n",
    "Temp"
   ]
  },
  {
   "cell_type": "code",
   "execution_count": 23,
   "metadata": {},
   "outputs": [],
   "source": [
    "TAVG=Temp[2]\n",
    "TMIN=Temp[1]\n",
    "TMAX=Temp[0]"
   ]
  },
  {
   "cell_type": "code",
   "execution_count": 24,
   "metadata": {},
   "outputs": [
    {
     "name": "stderr",
     "output_type": "stream",
     "text": [
      "C:\\Users\\btech\\Anaconda3\\envs\\PythonData\\lib\\site-packages\\matplotlib\\figure.py:98: MatplotlibDeprecationWarning: \n",
      "Adding an axes using the same arguments as a previous axes currently reuses the earlier instance.  In a future version, a new instance will always be created and returned.  Meanwhile, this warning can be suppressed, and the future behavior ensured, by passing a unique label to each axes instance.\n",
      "  \"Adding an axes using the same arguments as a previous axes \"\n"
     ]
    },
    {
     "data": {
      "image/png": "[encoded data removed]",
      "text/plain": [
       "<Figure size 432x288 with 1 Axes>"
      ]
     },
     "metadata": {
      "needs_background": "light"
     },
     "output_type": "display_data"
    }
   ],
   "source": [
    "plt.bar( 1,TAVG, color = 'blue', yerr = TMAX-TMIN, align='center')\n",
    "plt.xlim(-0.2, 2.2)\n",
    "plt.ylim([0, 110])\n",
    "plt.axes().get_xaxis().set_visible(False)\n",
    "plt.title('Trip Avg Temp')\n",
    "plt.ylabel(\"Temp (F)\")\n",
    "plt.tight_layout()\n",
    "plt.show()"
   ]
  },
  {
   "cell_type": "code",
   "execution_count": 41,
   "metadata": {},
   "outputs": [
    {
     "data": {
      "text/plain": [
       "[('USC00513117', 365),\n",
       " ('USC00514830', 261),\n",
       " ('USC00516128', 331),\n",
       " ('USC00517948', 67),\n",
       " ('USC00519281', 365),\n",
       " ('USC00519397', 361),\n",
       " ('USC00519523', 320)]"
      ]
     },
     "execution_count": 41,
     "metadata": {},
     "output_type": "execute_result"
    }
   ],
   "source": [
    "Rainfall_results = session.query(Measurements.station, func.count(Measurements.prcp)).\\\n",
    "                   group_by(Measurements.station).filter(Measurements.date.between('2016-08-01', '2017-08-01')).all()\n",
    "Rainfall_results"
   ]
  },
  {
   "cell_type": "code",
   "execution_count": 42,
   "metadata": {},
   "outputs": [
    {
     "name": "stdout",
     "output_type": "stream",
     "text": [
      "1\n",
      "2\n",
      "3\n",
      "4\n",
      "5\n",
      "6\n",
      "7\n",
      "8\n",
      "9\n",
      "10\n",
      "11\n",
      "12\n",
      "13\n",
      "14\n",
      "15\n"
     ]
    }
   ],
   "source": [
    "for i in range(1,16):\n",
    "    print(i)"
   ]
  },
  {
   "cell_type": "code",
   "execution_count": 44,
   "metadata": {},
   "outputs": [
    {
     "data": {
      "text/plain": [
       "[('2010-08-15'),\n",
       " ('2011-08-15'),\n",
       " ('2012-08-15'),\n",
       " ('2013-08-15'),\n",
       " ('2014-08-15'),\n",
       " ('2015-08-15'),\n",
       " ('2016-08-15'),\n",
       " ('2017-08-15')]"
      ]
     },
     "execution_count": 44,
     "metadata": {},
     "output_type": "execute_result"
    }
   ],
   "source": [
    "from sqlalchemy import extract  \n",
    "trip_month=8\n",
    "trip_days=range(1, 16)\n",
    "for i in range(1, 16):\n",
    "    subquery=session.query(Measurements.date).filter(extract('month', Measurements.date)==trip_month).\\\n",
    "             filter(extract('day', Measurements.date)== i ).group_by(Measurements.date).order_by(Measurements.date).all()\n",
    "subquery"
   ]
  },
  {
   "cell_type": "code",
   "execution_count": 45,
   "metadata": {},
   "outputs": [
    {
     "name": "stdout",
     "output_type": "stream",
     "text": [
      "('2010-08-01', 77.0, 71.0, 73.42857142857143)\n",
      "('2011-08-01', 78.0, 67.0, 73.375)\n",
      "('2012-08-01', 79.0, 71.0, 75.85714285714286)\n",
      "('2013-08-01', 79.0, 75.0, 76.83333333333333)\n",
      "('2014-08-01', 83.0, 73.0, 77.42857142857143)\n",
      "('2015-08-01', 79.0, 73.0, 77.4)\n",
      "('2016-08-01', 78.0, 73.0, 76.16666666666667)\n",
      "('2017-08-01', 77.0, 72.0, 74.5)\n",
      "('2010-08-02', 76.0, 70.0, 73.22222222222223)\n",
      "('2011-08-02', 77.0, 70.0, 73.625)\n",
      "('2012-08-02', 78.0, 68.0, 73.5)\n",
      "('2013-08-02', 78.0, 70.0, 74.57142857142857)\n",
      "('2014-08-02', 81.0, 73.0, 77.71428571428571)\n",
      "('2015-08-02', 84.0, 76.0, 80.0)\n",
      "('2016-08-02', 80.0, 72.0, 76.57142857142857)\n",
      "('2017-08-02', 83.0, 73.0, 79.0)\n",
      "('2010-08-03', 77.0, 70.0, 73.11111111111111)\n",
      "('2011-08-03', 78.0, 71.0, 75.25)\n",
      "('2012-08-03', 78.0, 72.0, 74.57142857142857)\n",
      "('2013-08-03', 79.0, 72.0, 76.66666666666667)\n",
      "('2014-08-03', 83.0, 74.0, 78.33333333333333)\n",
      "('2015-08-03', 85.0, 75.0, 80.0)\n",
      "('2016-08-03', 82.0, 74.0, 78.42857142857143)\n",
      "('2017-08-03', 81.0, 76.0, 79.0)\n",
      "('2010-08-04', 77.0, 69.0, 73.44444444444444)\n",
      "('2011-08-04', 77.0, 74.0, 75.625)\n",
      "('2012-08-04', 80.0, 72.0, 76.33333333333333)\n",
      "('2013-08-04', 79.0, 69.0, 76.66666666666667)\n",
      "('2014-08-04', 83.0, 74.0, 79.33333333333333)\n",
      "('2015-08-04', 84.0, 69.0, 77.28571428571429)\n",
      "('2016-08-04', 81.0, 74.0, 78.0)\n",
      "('2017-08-04', 82.0, 77.0, 80.0)\n",
      "('2010-08-05', 75.0, 69.0, 71.77777777777777)\n",
      "('2011-08-05', 79.0, 73.0, 76.375)\n",
      "('2012-08-05', 82.0, 70.0, 76.5)\n",
      "('2013-08-05', 79.0, 69.0, 74.875)\n",
      "('2014-08-05', 80.0, 74.0, 77.0)\n",
      "('2015-08-05', 82.0, 74.0, 78.14285714285714)\n",
      "('2016-08-05', 81.0, 75.0, 78.5)\n",
      "('2017-08-05', 82.0, 77.0, 80.0)\n",
      "('2010-08-06', 77.0, 70.0, 74.44444444444444)\n",
      "('2011-08-06', 78.0, 72.0, 75.16666666666667)\n",
      "('2012-08-06', 80.0, 67.0, 74.0)\n",
      "('2013-08-06', 80.0, 74.0, 76.625)\n",
      "('2014-08-06', 78.0, 71.0, 75.28571428571429)\n",
      "('2015-08-06', 81.0, 74.0, 77.28571428571429)\n",
      "('2016-08-06', 80.0, 76.0, 78.16666666666667)\n",
      "('2017-08-06', 83.0, 79.0, 81.4)\n",
      "('2010-08-07', 80.0, 72.0, 75.625)\n",
      "('2011-08-07', 79.0, 76.0, 77.57142857142857)\n",
      "('2012-08-07', 77.0, 71.0, 74.33333333333333)\n",
      "('2013-08-07', 81.0, 72.0, 76.625)\n",
      "('2014-08-07', 81.0, 74.0, 77.5)\n",
      "('2015-08-07', 82.0, 73.0, 78.0)\n",
      "('2016-08-07', 83.0, 77.0, 78.83333333333333)\n",
      "('2017-08-07', 83.0, 78.0, 80.5)\n",
      "('2010-08-08', 78.0, 71.0, 74.57142857142857)\n",
      "('2011-08-08', 78.0, 70.0, 75.75)\n",
      "('2012-08-08', 78.0, 71.0, 74.0)\n",
      "('2013-08-08', 81.0, 68.0, 74.625)\n",
      "('2014-08-08', 82.0, 73.0, 77.71428571428571)\n",
      "('2015-08-08', 82.0, 76.0, 79.4)\n",
      "('2016-08-08', 83.0, 75.0, 79.57142857142857)\n",
      "('2017-08-08', 82.0, 74.0, 78.5)\n",
      "('2010-08-09', 79.0, 72.0, 75.22222222222223)\n",
      "('2011-08-09', 79.0, 71.0, 75.42857142857143)\n",
      "('2012-08-09', 78.0, 69.0, 74.66666666666667)\n",
      "('2013-08-09', 80.0, 70.0, 74.75)\n",
      "('2014-08-09', 81.0, 73.0, 76.85714285714286)\n",
      "('2015-08-09', 79.0, 73.0, 75.75)\n",
      "('2016-08-09', 81.0, 73.0, 78.71428571428571)\n",
      "('2017-08-09', 81.0, 71.0, 77.33333333333333)\n",
      "('2010-08-10', 83.0, 72.0, 76.22222222222223)\n",
      "('2011-08-10', 79.0, 71.0, 75.0)\n",
      "('2012-08-10', 76.0, 65.0, 72.66666666666667)\n",
      "('2013-08-10', 76.0, 71.0, 73.33333333333333)\n",
      "('2014-08-10', 82.0, 73.0, 77.2)\n",
      "('2015-08-10', 81.0, 75.0, 78.33333333333333)\n",
      "('2016-08-10', 82.0, 76.0, 80.14285714285714)\n",
      "('2017-08-10', 81.0, 75.0, 79.25)\n",
      "('2010-08-11', 77.0, 69.0, 73.22222222222223)\n",
      "('2011-08-11', 80.0, 73.0, 76.14285714285714)\n",
      "('2012-08-11', 78.0, 67.0, 73.33333333333333)\n",
      "('2013-08-11', 82.0, 72.0, 77.33333333333333)\n",
      "('2014-08-11', 81.0, 68.0, 74.14285714285714)\n",
      "('2015-08-11', 82.0, 73.0, 78.57142857142857)\n",
      "('2016-08-11', 80.0, 74.0, 78.57142857142857)\n",
      "('2017-08-11', 81.0, 72.0, 78.0)\n",
      "('2010-08-12', 77.0, 71.0, 74.875)\n",
      "('2011-08-12', 78.0, 67.0, 74.75)\n",
      "('2012-08-12', 81.0, 69.0, 76.16666666666667)\n",
      "('2013-08-12', 79.0, 74.0, 76.625)\n",
      "('2014-08-12', 81.0, 70.0, 76.0)\n",
      "('2015-08-12', 83.0, 76.0, 80.0)\n",
      "('2016-08-12', 81.0, 71.0, 76.71428571428571)\n",
      "('2017-08-12', 83.0, 74.0, 79.0)\n",
      "('2010-08-13', 80.0, 71.0, 75.77777777777777)\n",
      "('2011-08-13', 78.0, 73.0, 75.71428571428571)\n",
      "('2012-08-13', 81.0, 73.0, 76.28571428571429)\n",
      "('2013-08-13', 79.0, 73.0, 75.57142857142857)\n",
      "('2014-08-13', 81.0, 71.0, 75.875)\n",
      "('2015-08-13', 83.0, 75.0, 78.625)\n",
      "('2016-08-13', 83.0, 74.0, 79.0)\n",
      "('2017-08-13', 84.0, 77.0, 80.6)\n",
      "('2010-08-14', 78.0, 71.0, 76.14285714285714)\n",
      "('2011-08-14', 80.0, 74.0, 77.0)\n",
      "('2012-08-14', 77.0, 72.0, 74.0)\n",
      "('2013-08-14', 79.0, 73.0, 76.5)\n",
      "('2014-08-14', 80.0, 71.0, 77.0)\n",
      "('2015-08-14', 82.0, 74.0, 78.5)\n",
      "('2016-08-14', 82.0, 72.0, 77.2)\n",
      "('2017-08-14', 81.0, 75.0, 78.2)\n",
      "('2010-08-15', 79.0, 72.0, 75.57142857142857)\n",
      "('2011-08-15', 80.0, 74.0, 76.25)\n",
      "('2012-08-15', 79.0, 73.0, 75.57142857142857)\n",
      "('2013-08-15', 79.0, 69.0, 75.33333333333333)\n",
      "('2014-08-15', 80.0, 70.0, 75.42857142857143)\n",
      "('2015-08-15', 83.0, 73.0, 79.16666666666667)\n",
      "('2016-08-15', 81.0, 72.0, 77.71428571428571)\n",
      "('2017-08-15', 82.0, 70.0, 77.2)\n"
     ]
    }
   ],
   "source": [
    "dates=[]\n",
    "daily_normals_Three_AVG=[]\n",
    "daily_normals_TMAX=[]\n",
    "daily_normals_TMIN=[]\n",
    "daily_normals_TAVG=[]\n",
    "\n",
    "trip_month=8\n",
    "trip_days=range(1, 16)\n",
    "\n",
    "def daily_normals():\n",
    "    \n",
    "    for i in range(1,16):\n",
    "        results=session.query(Measurements.date.label(\"dates\"), func.max(Measurements.tobs).label(\"max_tobs\"),\\\n",
    "                             func.min(Measurements.tobs).label(\"min_tobs\"),func.avg(Measurements.tobs).label(\"avg_tobs\")).\\\n",
    "                             filter(extract('month', Measurements.date)==trip_month).\\\n",
    "                             filter(extract('day', Measurements.date)== i ).group_by(Measurements.date).order_by(Measurements.date)\n",
    "        results\n",
    "        for res in results.all():\n",
    "             print( res)\n",
    "        \n",
    "        res\n",
    "        TMAX = res.max_tobs\n",
    "        TMIN= res.min_tobs\n",
    "        TAVG= res.avg_tobs\n",
    "        Date= res.dates\n",
    "        \n",
    "        data = [TMAX, TMIN, TAVG]\n",
    "        #avg = [float(sum(col))/len(col) for col in zip(*data)]\n",
    "\n",
    "        dates.append(Date)\n",
    "        #daily_normals_Three_AVG.append(avg)\n",
    "        daily_normals_TMAX.append(TMAX)\n",
    "        daily_normals_TMIN.append(TMIN)\n",
    "        daily_normals_TAVG.append(TAVG)\n",
    "        \n",
    "daily_normals()"
   ]
  },
  {
   "cell_type": "code",
   "execution_count": 46,
   "metadata": {},
   "outputs": [
    {
     "data": {
      "text/html": [
       "<div>\n",
       "<style scoped>\n",
       "    .dataframe tbody tr th:only-of-type {\n",
       "        vertical-align: middle;\n",
       "    }\n",
       "\n",
       "    .dataframe tbody tr th {\n",
       "        vertical-align: top;\n",
       "    }\n",
       "\n",
       "    .dataframe thead th {\n",
       "        text-align: right;\n",
       "    }\n",
       "</style>\n",
       "<table border=\"1\" class=\"dataframe\">\n",
       "  <thead>\n",
       "    <tr style=\"text-align: right;\">\n",
       "      <th></th>\n",
       "      <th>TMAX</th>\n",
       "      <th>TMIN</th>\n",
       "      <th>TAVG</th>\n",
       "    </tr>\n",
       "    <tr>\n",
       "      <th>Date</th>\n",
       "      <th></th>\n",
       "      <th></th>\n",
       "      <th></th>\n",
       "    </tr>\n",
       "  </thead>\n",
       "  <tbody>\n",
       "    <tr>\n",
       "      <th>2017-08-01</th>\n",
       "      <td>77.0</td>\n",
       "      <td>72.0</td>\n",
       "      <td>74.5</td>\n",
       "    </tr>\n",
       "    <tr>\n",
       "      <th>2017-08-02</th>\n",
       "      <td>83.0</td>\n",
       "      <td>73.0</td>\n",
       "      <td>79.0</td>\n",
       "    </tr>\n",
       "    <tr>\n",
       "      <th>2017-08-03</th>\n",
       "      <td>81.0</td>\n",
       "      <td>76.0</td>\n",
       "      <td>79.0</td>\n",
       "    </tr>\n",
       "    <tr>\n",
       "      <th>2017-08-04</th>\n",
       "      <td>82.0</td>\n",
       "      <td>77.0</td>\n",
       "      <td>80.0</td>\n",
       "    </tr>\n",
       "    <tr>\n",
       "      <th>2017-08-05</th>\n",
       "      <td>82.0</td>\n",
       "      <td>77.0</td>\n",
       "      <td>80.0</td>\n",
       "    </tr>\n",
       "  </tbody>\n",
       "</table>\n",
       "</div>"
      ],
      "text/plain": [
       "            TMAX  TMIN  TAVG\n",
       "Date                        \n",
       "2017-08-01  77.0  72.0  74.5\n",
       "2017-08-02  83.0  73.0  79.0\n",
       "2017-08-03  81.0  76.0  79.0\n",
       "2017-08-04  82.0  77.0  80.0\n",
       "2017-08-05  82.0  77.0  80.0"
      ]
     },
     "execution_count": 46,
     "metadata": {},
     "output_type": "execute_result"
    }
   ],
   "source": [
    "Daily_normals_df= pd.DataFrame({'Date': dates, 'TMAX': daily_normals_TMAX, 'TMIN': daily_normals_TMIN,'TAVG': daily_normals_TAVG,})\n",
    "Daily_normals_df.set_index('Date', inplace=True, )\n",
    "Daily_normals_df.head()"
   ]
  },
  {
   "cell_type": "code",
   "execution_count": 50,
   "metadata": {},
   "outputs": [
    {
     "data": {
      "image/png": "[encoded data removed]",
      "text/plain": [
       "<Figure size 576x396 with 1 Axes>"
      ]
     },
     "metadata": {},
     "output_type": "display_data"
    },
    {
     "data": {
      "image/png": "[encoded data removed]",
      "text/plain": [
       "<Figure size 576x396 with 1 Axes>"
      ]
     },
     "metadata": {},
     "output_type": "display_data"
    }
   ],
   "source": [
    "Daily_normals_df.plot.area(stacked=False, title='Daily normals of Temperature in Hawaii')\n",
    "ax = plt.subplots()\n",
    "plt.show()"
   ]
  },
  {
   "cell_type": "code",
   "execution_count": null,
   "metadata": {},
   "outputs": [],
   "source": []
  }
 ],
 "metadata": {
  "kernelspec": {
   "display_name": "Python [conda env:PythonData]",
   "language": "python",
   "name": "conda-env-PythonData-py"
  },
  "language_info": {
   "codemirror_mode": {
    "name": "ipython",
    "version": 3
   },
   "file_extension": ".py",
   "mimetype": "text/x-python",
   "name": "python",
   "nbconvert_exporter": "python",
   "pygments_lexer": "ipython3",
   "version": "3.6.8"
  }
 },
 "nbformat": 4,
 "nbformat_minor": 2
}
